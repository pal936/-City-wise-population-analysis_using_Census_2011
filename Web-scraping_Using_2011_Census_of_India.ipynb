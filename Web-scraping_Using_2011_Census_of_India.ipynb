{
 "cells": [
  {
   "cell_type": "markdown",
   "metadata": {},
   "source": [
    "# Web Scrapping Using 2011 Census of India"
   ]
  },
  {
   "cell_type": "markdown",
   "metadata": {},
   "source": [
    "## INTRODUCTION "
   ]
  },
  {
   "cell_type": "markdown",
   "metadata": {},
   "source": [
    "The Census of India conducted every 10 year's. First census Started in 1871.\n",
    "The word 'Census' came in the Latin word 'Censere' and the 'Censere' meaning to assess. Or other word Census meaning 'an official count or survey, especially of a population'.\n",
    "Census is nothing but a process of collecting, analyzing, evaluating, publishing and discripting statistical data regarding the population.\n"
   ]
  },
  {
   "cell_type": "markdown",
   "metadata": {},
   "source": [
    "### Importing Required Liabraries"
   ]
  },
  {
   "cell_type": "code",
   "execution_count": 1,
   "metadata": {},
   "outputs": [],
   "source": [
    "import pandas as pd                 # used for data analysis.\n",
    "import numpy as np                  # used to perform mathematical operations on arrays.\n",
    "import re                           # to check if a string contains the specified search pattern.\n",
    "import requests                     # allow you to send HTTP/1.1 requests using Python.\n",
    "from bs4 import BeautifulSoup       # web scraping purposes to pull the data out of HTML and XML files."
   ]
  },
  {
   "cell_type": "markdown",
   "metadata": {},
   "source": [
    "### Data Collecting\n",
    "The get() method sends a GET request to the specified url. Using Get() method we are accessing data from 'census2011.co.in'"
   ]
  },
  {
   "cell_type": "code",
   "execution_count": 2,
   "metadata": {},
   "outputs": [
    {
     "data": {
      "text/plain": [
       "<Response [200]>"
      ]
     },
     "execution_count": 2,
     "metadata": {},
     "output_type": "execute_result"
    }
   ],
   "source": [
    "page = requests.get(\"https://www.census2011.co.in/city.php\") # to access data for a specific resource from a REST API.\n",
    "page"
   ]
  },
  {
   "cell_type": "markdown",
   "metadata": {},
   "source": [
    "<Response [200]> means we are permitted to access data."
   ]
  },
  {
   "cell_type": "markdown",
   "metadata": {},
   "source": [
    "#### we are storing our data in HTML format"
   ]
  },
  {
   "cell_type": "code",
   "execution_count": 4,
   "metadata": {},
   "outputs": [],
   "source": [
    "soup = BeautifulSoup(page.text)    # pulling data out of HTML and XML files"
   ]
  },
  {
   "cell_type": "code",
   "execution_count": 5,
   "metadata": {},
   "outputs": [],
   "source": [
    "#soup                                  # Showing All the HTTPs format."
   ]
  },
  {
   "cell_type": "markdown",
   "metadata": {},
   "source": [
    "After scraping we are found that in our required data are divided into two part.\n",
    "All the even index belong's with class \"d1\" and it store's in one variable, odd index belong's with class \"d2\" and it store's another variable."
   ]
  },
  {
   "cell_type": "code",
   "execution_count": 6,
   "metadata": {},
   "outputs": [
    {
     "name": "stdout",
     "output_type": "stream",
     "text": [
      "Number of total row's captured in data: 249\n",
      "Number of total row's captured in data: 249\n"
     ]
    }
   ],
   "source": [
    "data2  = soup.find_all(\"tr\",class_=\"d1\")      #odd\n",
    "data3  = soup.find_all(\"tr\",class_=\"d2\")     #even\n",
    "print(f\"Number of total row's captured in data: {len(data2)}\")\n",
    "print(f\"Number of total row's captured in data: {len(data3)}\")"
   ]
  },
  {
   "cell_type": "markdown",
   "metadata": {},
   "source": [
    "### Collection of necessary information"
   ]
  },
  {
   "cell_type": "code",
   "execution_count": 7,
   "metadata": {},
   "outputs": [],
   "source": [
    "data4 = []\n",
    "odd_rank = []\n",
    "odd_city = []\n",
    "odd_State = []\n",
    "odd_Population = []\n",
    "odd_Metropolitan = []\n",
    "odd_Sexratio = []\n",
    "odd_Literacy = []\n",
    "for i in data2:\n",
    "    data4.append(i.text)\n",
    "for i in data4: \n",
    "    odd_rank.append(i.split(\"\\n\")[1])\n",
    "    odd_city.append(i.split(\"\\n\")[2])\n",
    "    odd_State.append(i.split(\"\\n\")[3])\n",
    "    odd_Population.append(i.split(\"\\n\")[4])\n",
    "    odd_Metropolitan.append(i.split(\"\\n\")[5])\n",
    "    odd_Sexratio.append(i.split(\"\\n\")[6])\n",
    "    odd_Literacy.append(i.split(\"\\n\")[7])"
   ]
  },
  {
   "cell_type": "code",
   "execution_count": 8,
   "metadata": {},
   "outputs": [],
   "source": [
    "data5 = []\n",
    "even_rank = []\n",
    "even_city = []\n",
    "even_State = []\n",
    "even_Population = []\n",
    "even_Metropolitan = []\n",
    "even_Sexratio = []\n",
    "even_Literacy = []\n",
    "for i in data3:\n",
    "    data5.append(i.text)\n",
    "for i in data5:\n",
    "    even_rank.append(i.split(\"\\n\")[1])\n",
    "    even_city.append(i.split(\"\\n\")[2])\n",
    "    even_State.append(i.split(\"\\n\")[3])\n",
    "    even_Population.append(i.split(\"\\n\")[4])\n",
    "    even_Metropolitan.append(i.split(\"\\n\")[5])\n",
    "    even_Sexratio.append(i.split(\"\\n\")[6])\n",
    "    even_Literacy.append(i.split(\"\\n\")[7])\n"
   ]
  },
  {
   "cell_type": "markdown",
   "metadata": {},
   "source": [
    "### Create Dataframe"
   ]
  },
  {
   "cell_type": "code",
   "execution_count": 9,
   "metadata": {},
   "outputs": [],
   "source": [
    "odd = pd.DataFrame({\"CITY\":odd_city,\"RANK\":odd_rank,\"STATE\":odd_State,\"POPULATION\":odd_Population,\"SEXRATIO\":odd_Sexratio,\"LITERACY\":odd_Literacy})\n",
    "even = pd.DataFrame({\"CITY\":even_city,\"RANK\":even_rank,\"STATE\":even_State,\"POPULATION\":even_Population,\"SEXRATIO\":even_Sexratio,\"LITERACY\":even_Literacy})"
   ]
  },
  {
   "cell_type": "code",
   "execution_count": 10,
   "metadata": {},
   "outputs": [],
   "source": [
    "# Append Dataset\n",
    "data = odd.append(even)"
   ]
  },
  {
   "cell_type": "code",
   "execution_count": 11,
   "metadata": {},
   "outputs": [
    {
     "data": {
      "text/html": [
       "<div>\n",
       "<style scoped>\n",
       "    .dataframe tbody tr th:only-of-type {\n",
       "        vertical-align: middle;\n",
       "    }\n",
       "\n",
       "    .dataframe tbody tr th {\n",
       "        vertical-align: top;\n",
       "    }\n",
       "\n",
       "    .dataframe thead th {\n",
       "        text-align: right;\n",
       "    }\n",
       "</style>\n",
       "<table border=\"1\" class=\"dataframe\">\n",
       "  <thead>\n",
       "    <tr style=\"text-align: right;\">\n",
       "      <th></th>\n",
       "      <th>CITY</th>\n",
       "      <th>RANK</th>\n",
       "      <th>STATE</th>\n",
       "      <th>POPULATION</th>\n",
       "      <th>SEXRATIO</th>\n",
       "      <th>LITERACY</th>\n",
       "    </tr>\n",
       "  </thead>\n",
       "  <tbody>\n",
       "    <tr>\n",
       "      <th>0</th>\n",
       "      <td>Mumbai</td>\n",
       "      <td>1</td>\n",
       "      <td>Maharashtra</td>\n",
       "      <td>12,442,373</td>\n",
       "      <td>853</td>\n",
       "      <td>89.73</td>\n",
       "    </tr>\n",
       "    <tr>\n",
       "      <th>1</th>\n",
       "      <td>Bangalore</td>\n",
       "      <td>3</td>\n",
       "      <td>Karnataka</td>\n",
       "      <td>8,443,675</td>\n",
       "      <td>923</td>\n",
       "      <td>88.71</td>\n",
       "    </tr>\n",
       "    <tr>\n",
       "      <th>2</th>\n",
       "      <td>Ahmedabad</td>\n",
       "      <td>5</td>\n",
       "      <td>Gujarat</td>\n",
       "      <td>5,577,940</td>\n",
       "      <td>898</td>\n",
       "      <td>88.29</td>\n",
       "    </tr>\n",
       "    <tr>\n",
       "      <th>3</th>\n",
       "      <td>Kolkata</td>\n",
       "      <td>7</td>\n",
       "      <td>West Bengal</td>\n",
       "      <td>4,496,694</td>\n",
       "      <td>908</td>\n",
       "      <td>86.31</td>\n",
       "    </tr>\n",
       "  </tbody>\n",
       "</table>\n",
       "</div>"
      ],
      "text/plain": [
       "        CITY RANK        STATE  POPULATION SEXRATIO LITERACY\n",
       "0     Mumbai    1  Maharashtra  12,442,373      853    89.73\n",
       "1  Bangalore    3    Karnataka   8,443,675      923    88.71\n",
       "2  Ahmedabad    5      Gujarat   5,577,940      898    88.29\n",
       "3    Kolkata    7  West Bengal   4,496,694      908    86.31"
      ]
     },
     "execution_count": 11,
     "metadata": {},
     "output_type": "execute_result"
    }
   ],
   "source": [
    "data.head(4)"
   ]
  },
  {
   "cell_type": "markdown",
   "metadata": {},
   "source": [
    "### Data Cleaning"
   ]
  },
  {
   "cell_type": "code",
   "execution_count": 12,
   "metadata": {},
   "outputs": [],
   "source": [
    "a = []\n",
    "for i in data['POPULATION']:\n",
    "    a.append(re.sub(r\",\",\"\",i))\n",
    "data['POPULATION']=a"
   ]
  },
  {
   "cell_type": "code",
   "execution_count": 13,
   "metadata": {},
   "outputs": [],
   "source": [
    "data[\"RANK\"]=data[\"RANK\"].astype(\"int\")\n",
    "data[\"POPULATION\"]=data[\"POPULATION\"].astype(\"float\")\n",
    "data[\"SEXRATIO\"]=data[\"SEXRATIO\"].astype(\"float\")\n",
    "data[\"LITERACY\"]=data[\"LITERACY\"].astype(\"float\")"
   ]
  },
  {
   "cell_type": "code",
   "execution_count": 14,
   "metadata": {},
   "outputs": [
    {
     "data": {
      "text/html": [
       "<div>\n",
       "<style scoped>\n",
       "    .dataframe tbody tr th:only-of-type {\n",
       "        vertical-align: middle;\n",
       "    }\n",
       "\n",
       "    .dataframe tbody tr th {\n",
       "        vertical-align: top;\n",
       "    }\n",
       "\n",
       "    .dataframe thead th {\n",
       "        text-align: right;\n",
       "    }\n",
       "</style>\n",
       "<table border=\"1\" class=\"dataframe\">\n",
       "  <thead>\n",
       "    <tr style=\"text-align: right;\">\n",
       "      <th></th>\n",
       "      <th>CITY</th>\n",
       "      <th>RANK</th>\n",
       "      <th>STATE</th>\n",
       "      <th>POPULATION</th>\n",
       "      <th>SEXRATIO</th>\n",
       "      <th>LITERACY</th>\n",
       "    </tr>\n",
       "  </thead>\n",
       "  <tbody>\n",
       "    <tr>\n",
       "      <th>0</th>\n",
       "      <td>Mumbai</td>\n",
       "      <td>1</td>\n",
       "      <td>Maharashtra</td>\n",
       "      <td>12442373.0</td>\n",
       "      <td>853.0</td>\n",
       "      <td>89.73</td>\n",
       "    </tr>\n",
       "    <tr>\n",
       "      <th>1</th>\n",
       "      <td>Bangalore</td>\n",
       "      <td>3</td>\n",
       "      <td>Karnataka</td>\n",
       "      <td>8443675.0</td>\n",
       "      <td>923.0</td>\n",
       "      <td>88.71</td>\n",
       "    </tr>\n",
       "    <tr>\n",
       "      <th>2</th>\n",
       "      <td>Ahmedabad</td>\n",
       "      <td>5</td>\n",
       "      <td>Gujarat</td>\n",
       "      <td>5577940.0</td>\n",
       "      <td>898.0</td>\n",
       "      <td>88.29</td>\n",
       "    </tr>\n",
       "    <tr>\n",
       "      <th>3</th>\n",
       "      <td>Kolkata</td>\n",
       "      <td>7</td>\n",
       "      <td>West Bengal</td>\n",
       "      <td>4496694.0</td>\n",
       "      <td>908.0</td>\n",
       "      <td>86.31</td>\n",
       "    </tr>\n",
       "    <tr>\n",
       "      <th>4</th>\n",
       "      <td>Pune</td>\n",
       "      <td>9</td>\n",
       "      <td>Maharashtra</td>\n",
       "      <td>3124458.0</td>\n",
       "      <td>948.0</td>\n",
       "      <td>89.56</td>\n",
       "    </tr>\n",
       "    <tr>\n",
       "      <th>...</th>\n",
       "      <td>...</td>\n",
       "      <td>...</td>\n",
       "      <td>...</td>\n",
       "      <td>...</td>\n",
       "      <td>...</td>\n",
       "      <td>...</td>\n",
       "    </tr>\n",
       "    <tr>\n",
       "      <th>244</th>\n",
       "      <td>Bhadreswar</td>\n",
       "      <td>490</td>\n",
       "      <td>West Bengal</td>\n",
       "      <td>101477.0</td>\n",
       "      <td>903.0</td>\n",
       "      <td>86.51</td>\n",
       "    </tr>\n",
       "    <tr>\n",
       "      <th>245</th>\n",
       "      <td>Kasganj</td>\n",
       "      <td>492</td>\n",
       "      <td>Uttar Pradesh</td>\n",
       "      <td>101277.0</td>\n",
       "      <td>891.0</td>\n",
       "      <td>77.36</td>\n",
       "    </tr>\n",
       "    <tr>\n",
       "      <th>246</th>\n",
       "      <td>Gangtok</td>\n",
       "      <td>494</td>\n",
       "      <td>Sikkim</td>\n",
       "      <td>100286.0</td>\n",
       "      <td>912.0</td>\n",
       "      <td>89.33</td>\n",
       "    </tr>\n",
       "    <tr>\n",
       "      <th>247</th>\n",
       "      <td>Nagda</td>\n",
       "      <td>496</td>\n",
       "      <td>Madhya Pradesh</td>\n",
       "      <td>100039.0</td>\n",
       "      <td>947.0</td>\n",
       "      <td>80.71</td>\n",
       "    </tr>\n",
       "    <tr>\n",
       "      <th>248</th>\n",
       "      <td>Kapurthala</td>\n",
       "      <td>498</td>\n",
       "      <td>Punjab</td>\n",
       "      <td>98916.0</td>\n",
       "      <td>839.0</td>\n",
       "      <td>85.08</td>\n",
       "    </tr>\n",
       "  </tbody>\n",
       "</table>\n",
       "<p>498 rows × 6 columns</p>\n",
       "</div>"
      ],
      "text/plain": [
       "           CITY  RANK           STATE  POPULATION  SEXRATIO  LITERACY\n",
       "0        Mumbai     1     Maharashtra  12442373.0     853.0     89.73\n",
       "1     Bangalore     3       Karnataka   8443675.0     923.0     88.71\n",
       "2     Ahmedabad     5         Gujarat   5577940.0     898.0     88.29\n",
       "3       Kolkata     7     West Bengal   4496694.0     908.0     86.31\n",
       "4          Pune     9     Maharashtra   3124458.0     948.0     89.56\n",
       "..          ...   ...             ...         ...       ...       ...\n",
       "244  Bhadreswar   490     West Bengal    101477.0     903.0     86.51\n",
       "245     Kasganj   492   Uttar Pradesh    101277.0     891.0     77.36\n",
       "246     Gangtok   494          Sikkim    100286.0     912.0     89.33\n",
       "247       Nagda   496  Madhya Pradesh    100039.0     947.0     80.71\n",
       "248  Kapurthala   498          Punjab     98916.0     839.0     85.08\n",
       "\n",
       "[498 rows x 6 columns]"
      ]
     },
     "execution_count": 14,
     "metadata": {},
     "output_type": "execute_result"
    }
   ],
   "source": [
    "data   # This is our final dataset"
   ]
  },
  {
   "cell_type": "code",
   "execution_count": 15,
   "metadata": {},
   "outputs": [],
   "source": [
    "#convert csv file.\n",
    "data.to_csv(\"Census.csv\")"
   ]
  },
  {
   "cell_type": "code",
   "execution_count": null,
   "metadata": {},
   "outputs": [],
   "source": []
  }
 ],
 "metadata": {
  "kernelspec": {
   "display_name": "Python 3 (ipykernel)",
   "language": "python",
   "name": "python3"
  },
  "language_info": {
   "codemirror_mode": {
    "name": "ipython",
    "version": 3
   },
   "file_extension": ".py",
   "mimetype": "text/x-python",
   "name": "python",
   "nbconvert_exporter": "python",
   "pygments_lexer": "ipython3",
   "version": "3.9.7"
  }
 },
 "nbformat": 4,
 "nbformat_minor": 2
}
